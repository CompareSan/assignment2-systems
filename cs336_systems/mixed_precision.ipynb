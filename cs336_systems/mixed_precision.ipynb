{
 "cells": [
  {
   "cell_type": "code",
   "execution_count": 1,
   "id": "e665a724",
   "metadata": {},
   "outputs": [],
   "source": [
    "import torch"
   ]
  },
  {
   "cell_type": "code",
   "execution_count": 11,
   "id": "e3f35528",
   "metadata": {},
   "outputs": [
    {
     "name": "stdout",
     "output_type": "stream",
     "text": [
      "tensor(200.0059)\n"
     ]
    }
   ],
   "source": [
    "s = torch.tensor(0, dtype=torch.float32)\n",
    "a = torch.tensor(0.01, dtype=torch.float32)\n",
    "b = torch.tensor(0.01, dtype=torch.float32)\n",
    "for i in range(10000):\n",
    "    res = a + b\n",
    "    s += res\n",
    "print(s)"
   ]
  },
  {
   "cell_type": "code",
   "execution_count": 12,
   "id": "8ccd98a3",
   "metadata": {},
   "outputs": [
    {
     "name": "stdout",
     "output_type": "stream",
     "text": [
      "tensor(64., dtype=torch.float16)\n"
     ]
    }
   ],
   "source": [
    "s = torch.tensor(0, dtype=torch.float16)\n",
    "a = torch.tensor(0.01, dtype=torch.float16)\n",
    "b = torch.tensor(0.01, dtype=torch.float16)\n",
    "for i in range(10000):\n",
    "    res = a + b\n",
    "    s += res\n",
    "print(s)"
   ]
  },
  {
   "cell_type": "code",
   "execution_count": 13,
   "id": "35cd97da",
   "metadata": {},
   "outputs": [
    {
     "name": "stdout",
     "output_type": "stream",
     "text": [
      "tensor(200.0427)\n"
     ]
    }
   ],
   "source": [
    "s = torch.tensor(0, dtype=torch.float32)\n",
    "a = torch.tensor(0.01, dtype=torch.float16)\n",
    "b = torch.tensor(0.01, dtype=torch.float16)\n",
    "for i in range(10000):\n",
    "    res = a + b\n",
    "    s += res\n",
    "print(s)"
   ]
  },
  {
   "cell_type": "code",
   "execution_count": 14,
   "id": "b077b6ae",
   "metadata": {},
   "outputs": [
    {
     "name": "stdout",
     "output_type": "stream",
     "text": [
      "tensor(200.0427)\n"
     ]
    }
   ],
   "source": [
    "s = torch.tensor(0, dtype=torch.float32)\n",
    "a = torch.tensor(0.01, dtype=torch.float16)\n",
    "b = torch.tensor(0.01, dtype=torch.float16)\n",
    "for i in range(10000):\n",
    "    res = a + b\n",
    "    s += res.type(torch.float32)\n",
    "print(s)"
   ]
  },
  {
   "cell_type": "code",
   "execution_count": 16,
   "id": "d68d7619",
   "metadata": {},
   "outputs": [],
   "source": [
    "import torch.nn as nn\n",
    "\n",
    "class ToyModel(nn.Module):\n",
    "    def __init__(self, in_features: int, out_features: int):\n",
    "        super().__init__()\n",
    "        self.fc1 = nn.Linear(in_features, 10, bias=False)\n",
    "        self.ln = nn.LayerNorm(10)\n",
    "        self.fc2 = nn.Linear(10, out_features, bias=False)\n",
    "        self.relu = nn.ReLU()\n",
    "\n",
    "    def forward(self, x):\n",
    "        x = self.relu(self.fc1(x))\n",
    "        x = self.ln(x)\n",
    "        x = self.fc2(x)"
   ]
  },
  {
   "cell_type": "code",
   "execution_count": null,
   "id": "7a82f169",
   "metadata": {},
   "outputs": [],
   "source": []
  }
 ],
 "metadata": {
  "kernelspec": {
   "display_name": "cs336-systems (3.11.11)",
   "language": "python",
   "name": "python3"
  },
  "language_info": {
   "codemirror_mode": {
    "name": "ipython",
    "version": 3
   },
   "file_extension": ".py",
   "mimetype": "text/x-python",
   "name": "python",
   "nbconvert_exporter": "python",
   "pygments_lexer": "ipython3",
   "version": "3.11.11"
  }
 },
 "nbformat": 4,
 "nbformat_minor": 5
}
